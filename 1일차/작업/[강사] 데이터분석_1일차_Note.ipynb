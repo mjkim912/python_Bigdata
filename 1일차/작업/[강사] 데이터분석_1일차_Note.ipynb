{
 "cells": [
  {
   "cell_type": "markdown",
   "id": "9f30b11b",
   "metadata": {},
   "source": [
    "# 데이터분석 1일차"
   ]
  },
  {
   "cell_type": "markdown",
   "id": "992dd38b",
   "metadata": {},
   "source": [
    "# 수업\n",
    "\n",
    "### 1. 파일다루기\n",
    "### 2. 크롤링\n",
    "### 3. 시각화"
   ]
  },
  {
   "cell_type": "code",
   "execution_count": null,
   "id": "8d6fb5f8",
   "metadata": {},
   "outputs": [],
   "source": []
  },
  {
   "cell_type": "markdown",
   "id": "d4657cde",
   "metadata": {},
   "source": [
    "# 크롤링\n",
    "\n",
    "1. urllib ------------ 텍스트모드로 작업\n",
    "2. BeautifulSoup4 ---- 텍스트모드로 작업\n",
    "3. selenium ---------- 웹브라우저를 조종"
   ]
  },
  {
   "cell_type": "code",
   "execution_count": 1,
   "id": "e1ae5ea1",
   "metadata": {},
   "outputs": [
    {
     "name": "stdout",
     "output_type": "stream",
     "text": [
      "Collecting selenium\n",
      "  Downloading selenium-3.141.0-py2.py3-none-any.whl (904 kB)\n",
      "Collecting urllib3\n",
      "  Downloading urllib3-1.26.7-py2.py3-none-any.whl (138 kB)\n",
      "Installing collected packages: urllib3, selenium\n",
      "Successfully installed selenium-3.141.0 urllib3-1.26.7\n"
     ]
    }
   ],
   "source": [
    "!pip install selenium"
   ]
  },
  {
   "cell_type": "markdown",
   "id": "71d353b7",
   "metadata": {},
   "source": [
    "## 웹브라우저: 크롬으로 작업\n",
    "\n",
    "### 크롬e드라이버 다운로드"
   ]
  },
  {
   "cell_type": "markdown",
   "id": "f58af2ca",
   "metadata": {},
   "source": [
    "# Web Driver 버전별 사이트\n",
    "\n",
    "\n",
    "- 컴퓨터 운영체제와 웹 브라우저 종류에 따라 개별 설치\n",
    "- 브라우저의 버전, PC 환경 등의 변수가 많아 크롬(Chrome)에서의 실습 권장\n",
    "\n",
    "\n",
    "1. 크롬 웹 드라이버\n",
    "\n",
    "\n",
    "https://chromedriver.storage.googleapis.com/index.html? (수업사용)\n",
    "\n",
    "\n",
    "2. 엣지 웹 드라이버\n",
    "\n",
    "https://docs.microsoft.com/ko-kr/microsoft-edge/webdriver\n",
    "\n",
    "\n",
    "\n",
    "3. 파이어폭스 웹 드라이버\n",
    "\n",
    "https://github.com/mozilla/geckodriver/releases\n",
    "\n",
    "\n"
   ]
  },
  {
   "cell_type": "code",
   "execution_count": null,
   "id": "4fced81e",
   "metadata": {},
   "outputs": [],
   "source": []
  },
  {
   "cell_type": "markdown",
   "id": "4c9c90fb",
   "metadata": {},
   "source": [
    "# 실습 : 스타벅스매장분석\n",
    "\n",
    "1. 스타벅스 매장은 인구수가 많은 곳에 입점한다.\n",
    "2. 스타벅스 매장은 회사원이 많은 곳에 입점한다."
   ]
  },
  {
   "cell_type": "markdown",
   "id": "26ac1243",
   "metadata": {},
   "source": [
    "### 사전자료\n",
    "\n",
    "1. 스타벅스 매장 : 스타벅스 홈페이지에서 크롤링\n",
    "2. 인구 : 전국(서울) -> 서울 열린데이터광장 파일 크롤링\n",
    "3. 기업 : 전국(서울) -> 서울 열린데이터광장 파일 크롤링"
   ]
  },
  {
   "cell_type": "markdown",
   "id": "23e4b58f",
   "metadata": {},
   "source": [
    "# 빅데이터\n",
    "\n",
    "1. 요구조사 : 주제선정\n",
    "2. 자료수집 -> 크롤링\n",
    "3. 데이터전처리 ; 데이터가공\n",
    "4. 분석 : 판다스, 시각화, 머신러닝 -> 샘플링\n",
    "5. 제품생산"
   ]
  },
  {
   "cell_type": "code",
   "execution_count": null,
   "id": "415126d4",
   "metadata": {},
   "outputs": [],
   "source": []
  },
  {
   "cell_type": "markdown",
   "id": "bb825a74",
   "metadata": {},
   "source": [
    "# 실습1 : 자료수집"
   ]
  },
  {
   "cell_type": "markdown",
   "id": "02aab014",
   "metadata": {},
   "source": [
    "# https://www.istarbucks.co.kr"
   ]
  },
  {
   "cell_type": "code",
   "execution_count": null,
   "id": "66b27159",
   "metadata": {},
   "outputs": [],
   "source": [
    "# HTML을 분석\n",
    "!pip install bs4"
   ]
  },
  {
   "cell_type": "code",
   "execution_count": null,
   "id": "e23223a0",
   "metadata": {},
   "outputs": [],
   "source": [
    "# 데이터분석\n",
    "!pip install pandas"
   ]
  },
  {
   "cell_type": "code",
   "execution_count": 5,
   "id": "bb1ec92e",
   "metadata": {},
   "outputs": [],
   "source": [
    "# 크롤링 모듈 호출\n",
    "\n",
    "from selenium import webdriver\n",
    "from bs4 import BeautifulSoup\n",
    "import pandas as pd\n",
    "import time"
   ]
  },
  {
   "cell_type": "markdown",
   "id": "a747df26",
   "metadata": {},
   "source": [
    "#### 스타벅스 홈페이지에 접속"
   ]
  },
  {
   "cell_type": "code",
   "execution_count": 6,
   "id": "45902d96",
   "metadata": {},
   "outputs": [],
   "source": [
    "# Mac 운영체제는 확장자를 생략한다.\n",
    "\n",
    "driver = webdriver.Chrome('chromedriver.exe')\n",
    "#driver = webdriver.Chrome('./chromedriver')\n",
    "\n",
    "url = 'https://www.starbucks.co.kr/store/store_map.do?disp=locale'\n",
    "\n",
    "driver.get(url)"
   ]
  },
  {
   "cell_type": "code",
   "execution_count": null,
   "id": "c9bd0538",
   "metadata": {},
   "outputs": [],
   "source": [
    "요소검사기"
   ]
  },
  {
   "cell_type": "markdown",
   "id": "6491857f",
   "metadata": {},
   "source": [
    "## 웹구조\n",
    "\n",
    "1. HTML\n",
    "2. CSS\n",
    "3. JavaScript"
   ]
  },
  {
   "cell_type": "markdown",
   "id": "77fdea3e",
   "metadata": {},
   "source": [
    "<hmtl>\n",
    "<body>\n",
    "welcome to my homepage!\n",
    "</body>\n",
    "</html>"
   ]
  },
  {
   "cell_type": "markdown",
   "id": "04628ddc",
   "metadata": {},
   "source": [
    "<hmtl>\n",
    "<body>\n",
    "welcome to my homepage!\n",
    "</body>\n",
    "</html>"
   ]
  },
  {
   "attachments": {
    "image.png": {
     "image/png": "[encoded data removed]"
    }
   },
   "cell_type": "markdown",
   "id": "713cfef5",
   "metadata": {},
   "source": [
    "### 홈페이지에서 서울을 클릭한다\n",
    "\n",
    "![image.png](attachment:image.png)"
   ]
  },
  {
   "cell_type": "code",
   "execution_count": null,
   "id": "ed7ce0bb",
   "metadata": {},
   "outputs": [],
   "source": [
    "//*[@id=\"container\"]/div/form/fieldset/div/section/article[1]/article/article[2]/div[1]/div[2]/ul/li[1]/a"
   ]
  },
  {
   "cell_type": "code",
   "execution_count": 8,
   "id": "e2bf017c",
   "metadata": {},
   "outputs": [],
   "source": [
    "xpath = '''//*[@id=\"container\"]/div/form/fieldset/div/section/article[1]/article/article[2]/div[1]/div[2]/ul/li[1]/a'''\n",
    "driver.find_element_by_xpath(xpath).click()"
   ]
  },
  {
   "cell_type": "markdown",
   "id": "e8f086df",
   "metadata": {},
   "source": [
    "### 코드를 찾는 방법\n",
    "\n",
    "1. HTML : driver.find_element_by_tag_name('태그명')\n",
    "2. CSS : driver.find_element_by_css_selector('코드명')\n",
    "3. JavaScript : driver.find_element_by_xpath(\"코드명\")\n",
    "4. HTML > ID : driver.find_element_by_id('코드명')"
   ]
  },
  {
   "cell_type": "code",
   "execution_count": null,
   "id": "7351b11d",
   "metadata": {},
   "outputs": [],
   "source": [
    "seoul_btn = '여기에CSS값을적어주세요'\n",
    "driver.find_element_by_css_selector(seoul_btn).click()"
   ]
  },
  {
   "cell_type": "code",
   "execution_count": null,
   "id": "15bd03ea",
   "metadata": {},
   "outputs": [],
   "source": [
    "xpath = '''여기에자바스크립트값을적어주세요'''\n",
    "driver.find_element_by_xpath(xpath).click()"
   ]
  },
  {
   "cell_type": "markdown",
   "id": "8e924e42",
   "metadata": {},
   "source": [
    "### 홈페이지 > 서울 > 전체 버튼을 클릭한다."
   ]
  },
  {
   "cell_type": "code",
   "execution_count": null,
   "id": "378bc34f",
   "metadata": {},
   "outputs": [],
   "source": [
    "seoul_all_btn = '여기에CSS값을적어주세요'\n",
    "driver.find_element_by_css_selector(seoul_all_btn).click()"
   ]
  },
  {
   "cell_type": "code",
   "execution_count": null,
   "id": "9b02414b",
   "metadata": {},
   "outputs": [],
   "source": [
    "xpath = '''여기에자바스크립트값을적어주세요'''\n",
    "driver.find_element_by_xpath(xpath).click()"
   ]
  },
  {
   "cell_type": "code",
   "execution_count": null,
   "id": "30fee94b",
   "metadata": {},
   "outputs": [],
   "source": []
  },
  {
   "cell_type": "markdown",
   "id": "49d9afd2",
   "metadata": {},
   "source": [
    "### 통합코드작성(홈페이지 > 서울 > 전체)"
   ]
  },
  {
   "cell_type": "code",
   "execution_count": null,
   "id": "035ce455",
   "metadata": {},
   "outputs": [],
   "source": [
    "# 크롤링 모듈 호출\n",
    "from selenium import webdriver\n",
    "from bs4 import BeautifulSoup\n",
    "import pandas as pd\n",
    "import time\n",
    "\n",
    "\n",
    "# 홈페이지 접속\n",
    "driver = webdriver.Chrome('chromedriver.exe')\n",
    "url = 'https://www.starbucks.co.kr/store/store_map.do?disp=locale'\n",
    "driver.get(url)\n",
    "time.sleep(3)\n",
    "\n",
    "# 서울 버튼 클릭\n",
    "xpath = '''여기에자바스크립트값을적어주세요'''\n",
    "driver.find_element_by_xpath(xpath).click()\n",
    "time.sleep(3)\n",
    "\n",
    "# 서울 > 전체 버튼 클릭\n",
    "xpath = '''여기에자바스크립트값을적어주세요'''\n",
    "driver.find_element_by_xpath(xpath).click()\n",
    "time.sleep(3)"
   ]
  },
  {
   "cell_type": "code",
   "execution_count": null,
   "id": "a809a05f",
   "metadata": {},
   "outputs": [],
   "source": [
    "%%writefile starbucks_css.py\n",
    "\n",
    "# 크롤링 모듈 호출\n",
    "from selenium import webdriver\n",
    "from bs4 import BeautifulSoup\n",
    "import pandas as pd\n",
    "import time\n",
    "\n",
    "\n",
    "# 홈페이지 접속\n",
    "driver = webdriver.Chrome('chromedriver.exe')\n",
    "url = 'https://www.starbucks.co.kr/store/store_map.do?disp=locale'\n",
    "driver.get(url)\n",
    "time.sleep(3)\n",
    "\n",
    "# 서울 버튼 클릭\n",
    "seoul_btn = '여기에CSS값을적어주세요'\n",
    "driver.find_element_by_css_selector(seoull_btn).click()\n",
    "time.sleep(3)\n",
    "\n",
    "# 서울 > 전체 버튼 클릭\n",
    "seoul_all_btn = '여기에CSS값을적어주세요'\n",
    "driver.find_element_by_css_selector(seoul_all_btn).click()\n",
    "time.sleep(3)"
   ]
  },
  {
   "cell_type": "code",
   "execution_count": 10,
   "id": "9eb2928d",
   "metadata": {},
   "outputs": [],
   "source": [
    "# 크롤링 모듈 호출\n",
    "from selenium import webdriver\n",
    "from bs4 import BeautifulSoup\n",
    "import pandas as pd\n",
    "import time\n",
    "\n",
    "\n",
    "# 홈페이지 접속\n",
    "driver = webdriver.Chrome('chromedriver.exe')\n",
    "url = 'https://www.starbucks.co.kr/store/store_map.do?disp=locale'\n",
    "driver.get(url)\n",
    "time.sleep(3)\n",
    "\n",
    "# 서울 버튼 클릭\n",
    "seoul_btn = '#container > div > form > fieldset > div > section > article.find_store_cont > article > article:nth-child(4) > div.loca_step1 > div.loca_step1_cont > ul > li:nth-child(1) > a'\n",
    "driver.find_element_by_css_selector(seoul_btn).click()\n",
    "time.sleep(2)\n",
    "\n",
    "# 서울 > 전체 버튼 클릭\n",
    "all_btn = '#mCSB_2_container > ul > li:nth-child(1) > a'\n",
    "driver.find_element_by_css_selector(all_btn).click()\n",
    "time.sleep(2)"
   ]
  },
  {
   "cell_type": "code",
   "execution_count": null,
   "id": "9840b3b8",
   "metadata": {},
   "outputs": [],
   "source": []
  },
  {
   "cell_type": "markdown",
   "id": "4b7d6533",
   "metadata": {},
   "source": [
    "# 실습2: 매장정보를 엑셀로 저장하기"
   ]
  },
  {
   "cell_type": "code",
   "execution_count": 11,
   "id": "6bd4c9e7",
   "metadata": {},
   "outputs": [],
   "source": [
    "# 현재 홈페이지의 정보를 변수에 저장한다.\n",
    "\n",
    "html = driver.page_source"
   ]
  },
  {
   "cell_type": "code",
   "execution_count": null,
   "id": "686f4f92",
   "metadata": {},
   "outputs": [],
   "source": [
    "print(html)\n",
    "\n",
    "# 현재 페이지의 HTML 코드를 저장만 한다."
   ]
  },
  {
   "cell_type": "code",
   "execution_count": 13,
   "id": "60e10fca",
   "metadata": {},
   "outputs": [],
   "source": [
    "# 저장된 HTML을 분석한다.\n",
    "\n",
    "soup = BeautifulSoup(html, 'html.parser')"
   ]
  },
  {
   "cell_type": "code",
   "execution_count": null,
   "id": "523b365d",
   "metadata": {},
   "outputs": [],
   "source": [
    "print(soup)\n",
    "\n",
    "# 저장된 HTML 코드를 상세하게 파악한다."
   ]
  },
  {
   "cell_type": "code",
   "execution_count": null,
   "id": "5c029caf",
   "metadata": {},
   "outputs": [],
   "source": []
  },
  {
   "cell_type": "markdown",
   "id": "e335730d",
   "metadata": {},
   "source": [
    "### 매장정보수집\n",
    "\n",
    "1. 매장명\n",
    "2. 매장주소\n",
    "3. 매장전화번호\n",
    "4. 매장 위도\n",
    "5. 매장 경도"
   ]
  },
  {
   "attachments": {
    "image.png": {
     "image/png": "[encoded data removed]"
    }
   },
   "cell_type": "markdown",
   "id": "85524e98",
   "metadata": {},
   "source": [
    "![image.png](attachment:image.png)"
   ]
  },
  {
   "cell_type": "code",
   "execution_count": null,
   "id": "9d66b046",
   "metadata": {},
   "outputs": [],
   "source": [
    "'li.quickResultLstCon'\n",
    "\n",
    "태그.클래스값"
   ]
  },
  {
   "cell_type": "markdown",
   "id": "37dc10a6",
   "metadata": {},
   "source": [
    "### 정보를 검색하는 명령어\n",
    "\n",
    "1. find : 지정된 값을 하나만 찾는다\n",
    "2. find_all : 지정된 값을 모두 찾는다\n",
    "3. select_one : 지정된 값을 하나만 찾는다\n",
    "4. select : 지정된 값을 모두 찾는다"
   ]
  },
  {
   "cell_type": "code",
   "execution_count": null,
   "id": "6c32e670",
   "metadata": {},
   "outputs": [],
   "source": [
    "# 현재 홈페이지의 정보를 변수에 저장한다.\n",
    "html = driver.page_source"
   ]
  },
  {
   "cell_type": "code",
   "execution_count": null,
   "id": "aa461114",
   "metadata": {},
   "outputs": [],
   "source": [
    "# 저장된 HTML을 분석한다.\n",
    "soup = BeautifulSoup(html, 'html.parser')"
   ]
  },
  {
   "cell_type": "code",
   "execution_count": 17,
   "id": "ef96609b",
   "metadata": {},
   "outputs": [
    {
     "name": "stdout",
     "output_type": "stream",
     "text": [
      "566\n"
     ]
    }
   ],
   "source": [
    "# 매장정보 검색\n",
    "starbucks_soup_list = soup.select('li.quickResultLstCon')\n",
    "print(len(starbucks_soup_list))"
   ]
  },
  {
   "cell_type": "code",
   "execution_count": 18,
   "id": "6658562c",
   "metadata": {},
   "outputs": [
    {
     "data": {
      "text/plain": [
       "<li class=\"quickResultLstCon\" data-code=\"3762\" data-hlytag=\"null\" data-index=\"0\" data-lat=\"37.501087\" data-long=\"127.043069\" data-name=\"역삼아레나빌딩\" data-storecd=\"1509\" style=\"background:#fff\"> <strong data-my_siren_order_store_yn=\"N\" data-name=\"역삼아레나빌딩\" data-store=\"1509\" data-yn=\"N\">역삼아레나빌딩  </strong> <p class=\"result_details\">서울특별시 강남구 언주로 425 (역삼동)<br/>1522-3232</p> <i class=\"pin_general\">리저브 매장 2번</i></li>"
      ]
     },
     "execution_count": 18,
     "metadata": {},
     "output_type": "execute_result"
    }
   ],
   "source": [
    "# 첫번째 매장정보만 출력\n",
    "starbucks_soup_list[0]"
   ]
  },
  {
   "cell_type": "code",
   "execution_count": 19,
   "id": "5d90d504",
   "metadata": {},
   "outputs": [
    {
     "data": {
      "text/plain": [
       "<li class=\"quickResultLstCon\" data-code=\"3801\" data-hlytag=\"null\" data-index=\"565\" data-lat=\"37.60170912407773\" data-long=\"127.07841136432036\" data-name=\"중화역\" data-storecd=\"1749\" style=\"background:#fff\"> <strong data-my_siren_order_store_yn=\"N\" data-name=\"중화역\" data-store=\"1749\" data-yn=\"N\">중화역  </strong> <p class=\"result_details\">서울특별시 중랑구 봉화산로 35 1,2층<br/>1522-3232</p> <i class=\"pin_general\">리저브 매장 2번</i></li>"
      ]
     },
     "execution_count": 19,
     "metadata": {},
     "output_type": "execute_result"
    }
   ],
   "source": [
    "# 마지막번째 매장정보만 출력\n",
    "starbucks_soup_list[-1]"
   ]
  },
  {
   "cell_type": "code",
   "execution_count": 20,
   "id": "67b0bf0d",
   "metadata": {},
   "outputs": [
    {
     "data": {
      "text/plain": [
       "<li class=\"quickResultLstCon\" data-code=\"3672\" data-hlytag=\"null\" data-index=\"1\" data-lat=\"37.510178\" data-long=\"127.022223\" data-name=\"논현역사거리\" data-storecd=\"1434\" style=\"background:#fff\"> <strong data-my_siren_order_store_yn=\"N\" data-name=\"논현역사거리\" data-store=\"1434\" data-yn=\"N\">논현역사거리  </strong> <p class=\"result_details\">서울특별시 강남구 강남대로 538 (논현동)<br/>1522-3232</p> <i class=\"pin_general\">리저브 매장 2번</i></li>"
      ]
     },
     "execution_count": 20,
     "metadata": {},
     "output_type": "execute_result"
    }
   ],
   "source": [
    "# 두번째 매장정보만 출력\n",
    "starbucks_soup_list[1]"
   ]
  },
  {
   "cell_type": "markdown",
   "id": "ba7e551b",
   "metadata": {},
   "source": [
    "### data-lat=\"37.501087\"\n",
    "\n",
    "### data-long=\"127.022223\"\n",
    "\n",
    "### <strong data-my_siren_order_store_yn=\"N\" data-name=\"논현역사거리\" data-store=\"1434\" data-yn=\"N\">논현역사거리  </strong>\n",
    "\n",
    "### <p class=\"result_details\">서울특별시 강남구 강남대로 538 (논현동)<br/>1522-3232</p>\n",
    "\n",
    "### <i class=\"pin_general\">리저브 매장 2번</i>"
   ]
  },
  {
   "cell_type": "code",
   "execution_count": null,
   "id": "d2b06980",
   "metadata": {},
   "outputs": [],
   "source": []
  },
  {
   "cell_type": "markdown",
   "id": "101c89d3",
   "metadata": {},
   "source": [
    "#### 매장이름 추출하기\n",
    "\n",
    "### <strong data-my_siren_order_store_yn=\"N\" data-name=\"논현역사거리\" data-store=\"1434\" data-yn=\"N\">논현역사거리  </strong>"
   ]
  },
  {
   "cell_type": "code",
   "execution_count": 22,
   "id": "89de1f76",
   "metadata": {},
   "outputs": [
    {
     "data": {
      "text/plain": [
       "<li class=\"quickResultLstCon\" data-code=\"3762\" data-hlytag=\"null\" data-index=\"0\" data-lat=\"37.501087\" data-long=\"127.043069\" data-name=\"역삼아레나빌딩\" data-storecd=\"1509\" style=\"background:#fff\"> <strong data-my_siren_order_store_yn=\"N\" data-name=\"역삼아레나빌딩\" data-store=\"1509\" data-yn=\"N\">역삼아레나빌딩  </strong> <p class=\"result_details\">서울특별시 강남구 언주로 425 (역삼동)<br/>1522-3232</p> <i class=\"pin_general\">리저브 매장 2번</i></li>"
      ]
     },
     "execution_count": 22,
     "metadata": {},
     "output_type": "execute_result"
    }
   ],
   "source": [
    "# 첫번째 매장정보만 출력\n",
    "starbucks_soup_list[0]"
   ]
  },
  {
   "cell_type": "code",
   "execution_count": 21,
   "id": "0f760d4d",
   "metadata": {},
   "outputs": [
    {
     "name": "stdout",
     "output_type": "stream",
     "text": [
      "매장명 : [<strong data-my_siren_order_store_yn=\"N\" data-name=\"역삼아레나빌딩\" data-store=\"1509\" data-yn=\"N\">역삼아레나빌딩  </strong>]\n"
     ]
    }
   ],
   "source": [
    "starbucks_store = starbucks_soup_list[0]\n",
    "name = starbucks_store.select('strong')\n",
    "print('매장명 : {}'.format(name))"
   ]
  },
  {
   "cell_type": "code",
   "execution_count": 23,
   "id": "fa55075a",
   "metadata": {},
   "outputs": [
    {
     "name": "stdout",
     "output_type": "stream",
     "text": [
      "매장명 : <strong data-my_siren_order_store_yn=\"N\" data-name=\"역삼아레나빌딩\" data-store=\"1509\" data-yn=\"N\">역삼아레나빌딩  </strong>\n"
     ]
    }
   ],
   "source": [
    "# 검색된 리스트 결과에서 첫번째 정보를 가져온다\n",
    "\n",
    "name = starbucks_store.select('strong')[0]\n",
    "print('매장명 : {}'.format(name))"
   ]
  },
  {
   "cell_type": "code",
   "execution_count": 24,
   "id": "4d93e9fa",
   "metadata": {},
   "outputs": [
    {
     "name": "stdout",
     "output_type": "stream",
     "text": [
      "매장명 : 역삼아레나빌딩  \n"
     ]
    }
   ],
   "source": [
    "name = starbucks_store.select('strong')[0].text\n",
    "print('매장명 : {}'.format(name))"
   ]
  },
  {
   "cell_type": "code",
   "execution_count": 25,
   "id": "bb2e377f",
   "metadata": {},
   "outputs": [
    {
     "name": "stdout",
     "output_type": "stream",
     "text": [
      "매장명 : 역삼아레나빌딩\n"
     ]
    }
   ],
   "source": [
    "# strip() 함수를 사용하여 좌우 공백을 모두 제거해준다\n",
    "name = starbucks_store.select('strong')[0].text.strip()\n",
    "print('매장명 : {}'.format(name))"
   ]
  },
  {
   "cell_type": "markdown",
   "id": "4f3f47e1",
   "metadata": {},
   "source": [
    "### 매장정보수집\n",
    "\n",
    "1. 매장명\n",
    "2. 매장주소\n",
    "3. 매장전화번호\n",
    "4. 매장 위도\n",
    "5. 매장 경도"
   ]
  },
  {
   "cell_type": "code",
   "execution_count": null,
   "id": "1ca4b005",
   "metadata": {},
   "outputs": [],
   "source": []
  },
  {
   "cell_type": "code",
   "execution_count": null,
   "id": "80f932e2",
   "metadata": {},
   "outputs": [],
   "source": []
  }
 ],
 "metadata": {
  "kernelspec": {
   "display_name": "Python 3 (ipykernel)",
   "language": "python",
   "name": "python3"
  },
  "language_info": {
   "codemirror_mode": {
    "name": "ipython",
    "version": 3
   },
   "file_extension": ".py",
   "mimetype": "text/x-python",
   "name": "python",
   "nbconvert_exporter": "python",
   "pygments_lexer": "ipython3",
   "version": "3.8.7"
  }
 },
 "nbformat": 4,
 "nbformat_minor": 5
}
